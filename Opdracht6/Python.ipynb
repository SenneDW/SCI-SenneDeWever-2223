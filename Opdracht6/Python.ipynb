{
 "cells": [
  {
   "cell_type": "code",
   "execution_count": 1,
   "metadata": {},
   "outputs": [],
   "source": [
    "import numpy_financial as npf"
   ]
  },
  {
   "attachments": {},
   "cell_type": "markdown",
   "metadata": {},
   "source": [
    "CF - CashFlow is de beweging van geld in en uit een bedrijf of organisatie."
   ]
  },
  {
   "attachments": {},
   "cell_type": "markdown",
   "metadata": {},
   "source": [
    "I - Interest is de rente per periode\n",
    "* Ik heb een lening van 10.000 euro en betaal 20 keer een maandelijkse betaling van 500 euro, wat is het rentevoet op mijn lening?\n"
   ]
  },
  {
   "cell_type": "code",
   "execution_count": 104,
   "metadata": {},
   "outputs": [
    {
     "name": "stdout",
     "output_type": "stream",
     "text": [
      "Rate: -30.191335879529106\n"
     ]
    }
   ],
   "source": [
    "number_payments = 20\n",
    "loan = 10000\n",
    "payment = 600\n",
    "\n",
    "print(\"Rate:\", npf.rate(period, -payment, pv, 0) * 100)"
   ]
  },
  {
   "attachments": {},
   "cell_type": "markdown",
   "metadata": {},
   "source": [
    "IRR - Internal Rate of Return wordt gebruikt om de winstgevendheid van een project of investering te evalueren. Het is het rendement dat vereist is om eens investering break-even te maken, rekening houdend met de tijdswaarde van geld.\n",
    "\n",
    "NPV - Net Present Value is een financiële maatstaf die wordt gebruikt om de winstgevendheid van een investering of project te evalueren. Het berekent het verschil tussen de huidige waarde van de verwachte kasstromen van een investering of project en de oorspronkelijke kosten van de investering.\n",
    "* Ik investeer in een driejaarlijks durende project van €20.000 euro, waar ik vervolgens €10.000 per jaar van terugkrijg. Voor dat het bedrijf winst kan maken, moet er een rate zijn van 15% zijn.\n",
    "* Wat is de internal rate of return voor dit project?"
   ]
  },
  {
   "cell_type": "code",
   "execution_count": 64,
   "metadata": {},
   "outputs": [
    {
     "name": "stdout",
     "output_type": "stream",
     "text": [
      "NPV: 2832.2511712007918\n",
      "IRR: 0.23375192852825855\n"
     ]
    }
   ],
   "source": [
    "cashflows = [-20000, 10000, 10000, 10000]\n",
    "rate = 0.15\n",
    "print(\"NPV:\", npf.npv(rate, cashflows))\n",
    "print(\"IRR:\", npf.irr(cashflows))"
   ]
  },
  {
   "attachments": {},
   "cell_type": "markdown",
   "metadata": {},
   "source": [
    "PV - Present Value verwijst naar de waarde van een aanwinst/geld in de huidige tijd, rekening houdend met de tijdwaarde van het geld.\n",
    "* Ik zou graag €100.000 euro willen over 5 jaar, de interestvoet bedraagt 2.5% procent op een jaar. Hoeveel geld moet ik investeren om dit bedrag te behalen?\n",
    "\n",
    "\n"
   ]
  },
  {
   "cell_type": "code",
   "execution_count": 99,
   "metadata": {},
   "outputs": [
    {
     "name": "stdout",
     "output_type": "stream",
     "text": [
      "PV: 88385.42876095173\n"
     ]
    }
   ],
   "source": [
    "rate = 0.025\n",
    "value = 100000\n",
    "period = 5\n",
    "print(\"PV:\",npf.pv(rate, period, 0, -value))"
   ]
  },
  {
   "attachments": {},
   "cell_type": "markdown",
   "metadata": {},
   "source": [
    "FV - Future Value verwijst naar de waarde van een aanwinst naar een toekomstige datum, rekening houdend met de tijdswaarde van geld.\n",
    "* Wat is mijn €100.000 euro waard met een maandelijkse toevoeging van €200 na 5 jaar met een interestvoet van 2.5% per jaar?"
   ]
  },
  {
   "cell_type": "code",
   "execution_count": 102,
   "metadata": {},
   "outputs": [
    {
     "name": "stdout",
     "output_type": "stream",
     "text": [
      "FV: 125756.00972656239\n"
     ]
    }
   ],
   "source": [
    "rate = 0.025\n",
    "value = 100000\n",
    "payment = 200\n",
    "period = 5\n",
    "print(\"FV:\",npf.fv(rate, period, -payment*12, -value))"
   ]
  }
 ],
 "metadata": {
  "kernelspec": {
   "display_name": "base",
   "language": "python",
   "name": "python3"
  },
  "language_info": {
   "codemirror_mode": {
    "name": "ipython",
    "version": 3
   },
   "file_extension": ".py",
   "mimetype": "text/x-python",
   "name": "python",
   "nbconvert_exporter": "python",
   "pygments_lexer": "ipython3",
   "version": "3.8.8 (default, Apr 13 2021, 15:08:03) [MSC v.1916 64 bit (AMD64)]"
  },
  "orig_nbformat": 4,
  "vscode": {
   "interpreter": {
    "hash": "50885edcd24794f25fb136618f0669268d8da494a74a635e6c9d4e9715dd8b25"
   }
  }
 },
 "nbformat": 4,
 "nbformat_minor": 2
}
